{
 "cells": [
  {
   "cell_type": "code",
   "execution_count": 1,
   "outputs": [],
   "source": [
    "import gc\n",
    "import os\n",
    "import numpy as np\n",
    "\n",
    "import torch\n",
    "from sklearn.model_selection import train_test_split\n",
    "from torch import cuda\n",
    "from torch.utils.data import DataLoader\n",
    "from transformers import AutoConfig, AutoModelForTokenClassification, AutoTokenizer\n",
    "\n",
    "from helpers.dataset import TextDataset\n",
    "from helpers.download_external_model import get_model_from_external\n",
    "from helpers.model import ModelHandler\n",
    "from helpers.process_data import process_dir, process_train_df\n",
    "from helpers.tokenise import tokenise\n",
    "from helpers.evaluation import score_feedback_comp\n",
    "\n",
    "# Set up config\n",
    "\n",
    "# Number of GPUs, Kaggle only has 1\n",
    "os.environ[\"CUDA_VISIBLE_DEVICES\"]=\"1\"\n",
    "\n",
    "# Model version for tracking\n",
    "VERSION=1\n",
    "\n",
    "# Download base trained model from internet or use cached\n",
    "DOWNLOAD_MODEL = False\n",
    "TOKENISER_PATH = 'tokeniser'\n",
    "\n",
    "DATA_PATH = 'data'\n",
    "\n",
    "\n",
    "MODEL_NAME = 'google/bigbird-roberta-base'\n",
    "\n",
    "# torch config for model training and evaluation\n",
    "config = {'model_name': MODEL_NAME,\n",
    "          'tokeniser_kwargs': {\n",
    "              'max_length': 1024,\n",
    "\n",
    "              'return_offsets_mapping':True,\n",
    "              'padding':'max_length',\n",
    "              'truncation':True,\n",
    "          },\n",
    "          'train_batch_split': 0.85,\n",
    "         'train_batch_size':10,\n",
    "         'valid_batch_size':10,\n",
    "         'epochs':5,\n",
    "         'learning_rates': [2.5e-5, 2.5e-5, 2.5e-6, 2.5e-6, 2.5e-7],\n",
    "         'max_grad_norm':10,\n",
    "         'device': 'cuda' if cuda.is_available() else 'cpu'}"
   ],
   "metadata": {
    "collapsed": false,
    "pycharm": {
     "name": "#%%\n"
    }
   }
  },
  {
   "cell_type": "code",
   "execution_count": 17,
   "outputs": [],
   "source": [],
   "metadata": {
    "collapsed": false,
    "pycharm": {
     "name": "#%%\n"
    }
   }
  },
  {
   "cell_type": "code",
   "execution_count": 18,
   "outputs": [],
   "source": [
    "\n",
    "config_kwargs = {\n",
    "    'num_labels': 15,\n",
    "}\n",
    "\n",
    "model_kwargs = {\n",
    "    'add_prefix_space': True\n",
    "}\n",
    "\n",
    "if DOWNLOAD_MODEL:\n",
    "    get_model_from_external(model_name=MODEL_NAME, model_path=TOKENISER_PATH,\n",
    "                            config_kwargs=config_kwargs, model_kwargs=model_kwargs)"
   ],
   "metadata": {
    "collapsed": false,
    "pycharm": {
     "name": "#%%\n"
    }
   }
  },
  {
   "cell_type": "code",
   "execution_count": 3,
   "outputs": [],
   "source": [],
   "metadata": {
    "collapsed": false,
    "pycharm": {
     "name": "#%%\n"
    }
   }
  },
  {
   "cell_type": "code",
   "execution_count": null,
   "outputs": [],
   "source": [
    "train_df = process_train_df(train_df_path=f'{DATA_PATH}/train.csv')\n",
    "print(train_df.shape)\n",
    "print(train_df.head())"
   ],
   "metadata": {
    "collapsed": false,
    "pycharm": {
     "name": "#%%\n",
     "is_executing": true
    }
   }
  },
  {
   "cell_type": "code",
   "execution_count": 6,
   "outputs": [],
   "source": [
    "test_texts_df = process_dir(f'{DATA_PATH}/test')\n",
    "train_texts_df = process_dir(f'{DATA_PATH}/train')\n",
    "train_texts_df.to_csv('data/train_texts.csv')\n",
    "test_texts_df.to_csv('data/test_texts.csv')"
   ],
   "metadata": {
    "collapsed": false,
    "pycharm": {
     "name": "#%%\n"
    }
   }
  },
  {
   "cell_type": "code",
   "execution_count": 8,
   "outputs": [],
   "source": [
    "train_texts_df = tokenise(train_df=train_df, texts_df=train_texts_df)"
   ],
   "metadata": {
    "collapsed": false,
    "pycharm": {
     "name": "#%%\n"
    }
   }
  },
  {
   "cell_type": "code",
   "execution_count": 9,
   "outputs": [],
   "source": [
    "all_entities = set()\n",
    "for entity in train_texts_df['entities']:\n",
    "    all_entities = all_entities.union(set(entity))\n",
    "\n",
    "discourse_labels_to_ids = {v:k for k,v in enumerate(all_entities)}\n",
    "discourse_ids_to_labels = {v:k for k,v in discourse_labels_to_ids.items()}"
   ],
   "metadata": {
    "collapsed": false,
    "pycharm": {
     "name": "#%%\n"
    }
   }
  },
  {
   "cell_type": "code",
   "execution_count": 10,
   "outputs": [],
   "source": [
    "train_x, train_y = train_test_split(train_texts_df, train_size=config['train_batch_split'])"
   ],
   "metadata": {
    "collapsed": false,
    "pycharm": {
     "name": "#%%\n"
    }
   }
  },
  {
   "cell_type": "code",
   "execution_count": 11,
   "outputs": [],
   "source": [
    "\n",
    "tokeniser = AutoTokenizer.from_pretrained(TOKENISER_PATH)\n",
    "training_set = TextDataset(tokeniser=tokeniser, data=train_x.reset_index(drop=True), discourse_label_to_id=discourse_labels_to_ids, tokeniser_kwargs=config['tokeniser_kwargs'], validate=False)\n",
    "testing_set = TextDataset(tokeniser=tokeniser, data=train_y.reset_index(drop=True), tokeniser_kwargs=config['tokeniser_kwargs'], validate=True)"
   ],
   "metadata": {
    "collapsed": false,
    "pycharm": {
     "name": "#%%\n"
    }
   }
  },
  {
   "cell_type": "code",
   "execution_count": null,
   "outputs": [],
   "source": [
    "\n",
    "train_params = {'batch_size': config['train_batch_size'],\n",
    "                'shuffle': True,\n",
    "                'num_workers': 2,\n",
    "                'pin_memory':True\n",
    "                }\n",
    "\n",
    "test_params = {'batch_size': config['valid_batch_size'],\n",
    "                'shuffle': False,\n",
    "                'num_workers': 2,\n",
    "                'pin_memory':True\n",
    "                }\n",
    "\n",
    "training_loader = DataLoader(training_set, **train_params)\n",
    "testing_loader = DataLoader(testing_set, **test_params)\n",
    "\n",
    "# Test data\n",
    "test_texts_set = TextDataset(data=test_texts_df, tokeniser=tokeniser, tokeniser_kwargs=config['tokeniser_kwargs'], validate=True)\n",
    "test_texts_loader = DataLoader(test_texts_set, **test_params)"
   ],
   "metadata": {
    "collapsed": false,
    "pycharm": {
     "name": "#%%\n"
    }
   }
  },
  {
   "cell_type": "code",
   "execution_count": 13,
   "outputs": [],
   "source": [
    "# Create Model\n",
    "config_model = AutoConfig.from_pretrained(TOKENISER_PATH+'/config.json')\n",
    "model = AutoModelForTokenClassification.from_pretrained(\n",
    "                   TOKENISER_PATH+'/pytorch_model.bin',config=config_model)\n",
    "model.to(config['device'])\n",
    "\n",
    "#### Load model from saved state\n",
    "# model_state_dict = torch.load(f'bigbird_v{VERSION}.pt')\n",
    "# model.load_state_dict(model_state_dict)\n",
    "\n",
    "optimizer = torch.optim.Adam(params=model.parameters(), lr=config['learning_rates'][0])"
   ],
   "metadata": {
    "collapsed": false,
    "pycharm": {
     "name": "#%%\n"
    }
   }
  },
  {
   "cell_type": "code",
   "execution_count": null,
   "outputs": [],
   "source": [
    "model_handler = ModelHandler(model=model, optimizer=optimizer, config=config)"
   ],
   "metadata": {
    "collapsed": false,
    "pycharm": {
     "name": "#%%\n"
    }
   }
  },
  {
   "cell_type": "code",
   "execution_count": null,
   "outputs": [],
   "source": [
    "# Run training\n",
    "for epoch in range(config['epochs']):\n",
    "    model_handler.train(epoch ,training_loader=training_loader, max_batch_iter=500)\n",
    "    torch.cuda.empty_cache()\n",
    "    gc.collect()\n",
    "    # Save model state\n",
    "    torch.save(model.state_dict(), f'bigbird_v{VERSION}.pt')"
   ],
   "metadata": {
    "collapsed": false,
    "pycharm": {
     "name": "#%%\n"
    }
   }
  },
  {
   "cell_type": "code",
   "execution_count": null,
   "outputs": [],
   "source": [
    "# Clean memory\n",
    "torch.cuda.empty_cache()\n",
    "gc.collect()\n",
    "\n",
    "# Get predictions\n",
    "df_pred = model_handler.get_all_predictions(train_y, testing_loader, discourse_ids_to_labels)\n",
    "\n",
    "# Get labels\n",
    "valid = train_df.loc[train_df['id'].isin(train_y.id)]\n",
    "\n",
    "# Overall score\n",
    "f1s = []\n",
    "\n",
    "# Calculate score for each class\n",
    "classes = df_pred['class'].unique()\n",
    "for c in classes:\n",
    "    df_pred = df_pred.loc[df_pred['class']==c].copy()\n",
    "    df_true = valid.loc[valid['discourse_type']==c].copy()\n",
    "    f1 = score_feedback_comp(df_pred, df_true)\n",
    "    print(c,f1)\n",
    "    f1s.append(f1)\n",
    "\n",
    "# Overall score\n",
    "print('\\nOverall',np.mean(f1s))"
   ],
   "metadata": {
    "collapsed": false,
    "pycharm": {
     "name": "#%%\n"
    }
   }
  },
  {
   "cell_type": "code",
   "execution_count": null,
   "outputs": [],
   "source": [
    "# Get predictions for the test set\n",
    "sub = model_handler.get_all_predictions(test_texts_df, test_texts_loader, discourse_ids_to_labels)\n",
    "sub.to_csv(f\"submission_{VERSION}.csv\", index=False)"
   ],
   "metadata": {
    "collapsed": false,
    "pycharm": {
     "name": "#%%\n",
     "is_executing": true
    }
   }
  },
  {
   "cell_type": "code",
   "execution_count": null,
   "outputs": [],
   "source": [],
   "metadata": {
    "collapsed": false,
    "pycharm": {
     "name": "#%%\n"
    }
   }
  }
 ],
 "metadata": {
  "kernelspec": {
   "display_name": "Python 3",
   "language": "python",
   "name": "python3"
  },
  "language_info": {
   "codemirror_mode": {
    "name": "ipython",
    "version": 2
   },
   "file_extension": ".py",
   "mimetype": "text/x-python",
   "name": "python",
   "nbconvert_exporter": "python",
   "pygments_lexer": "ipython2",
   "version": "2.7.6"
  }
 },
 "nbformat": 4,
 "nbformat_minor": 0
}